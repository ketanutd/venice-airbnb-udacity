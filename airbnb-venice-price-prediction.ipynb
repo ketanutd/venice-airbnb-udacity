{
 "cells": [
  {
   "cell_type": "markdown",
   "metadata": {},
   "source": [
    "# 1. Introduction\n",
    "\n",
    "Airbnb is an online marketplace for arranging or offering lodging, primarily homestays, or tourism experiences since 2008. Venice one of the most popular tourism place in the world. \n",
    "\n",
    "Airbnb Venice 2020 data contains listing activity and metrics. In this kernel, I would like to choose the best prediction model for price. We will perform Exploratory Data Analysis and also study relationship between features."
   ]
  },
  {
   "cell_type": "markdown",
   "metadata": {},
   "source": [
    "- What can we learn about different hosts and areas?\n",
    "\n",
    "- What can we learn from predictions? (ex: locations, prices, reviews, etc)\n",
    "\n",
    "- Which hosts are the busiest and why?\n",
    "\n",
    "- Is there any noticeable difference of traffic among different areas and what could be the reason for it?"
   ]
  },
  {
   "cell_type": "markdown",
   "metadata": {},
   "source": [
    "- What factors makes a top host?\n",
    "\n",
    "- What features contribute for price prediction of an airbnb?\n"
   ]
  },
  {
   "cell_type": "code",
   "execution_count": 1,
   "metadata": {},
   "outputs": [],
   "source": [
    "import pandas as pd\n",
    "import numpy as np\n",
    "import matplotlib.pyplot as plt\n",
    "import seaborn as sns\n",
    "\n",
    "from scipy.stats import norm\n",
    "from scipy import stats\n",
    "from sklearn import preprocessing\n",
    "from sklearn.preprocessing import LabelEncoder\n",
    "from sklearn.preprocessing import StandardScaler\n",
    "\n",
    "from sklearn.model_selection import train_test_split\n",
    "from sklearn.model_selection import KFold\n",
    "from sklearn.model_selection import GridSearchCV\n",
    "from sklearn.ensemble import ExtraTreesClassifier\n",
    "\n",
    "from sklearn.linear_model import LinearRegression\n",
    "from sklearn.preprocessing import PolynomialFeatures\n",
    "from sklearn.linear_model import Ridge\n",
    "from sklearn.linear_model import Lasso\n",
    "from sklearn.linear_model import ElasticNet\n",
    "\n",
    "from sklearn import metrics\n",
    "from sklearn.metrics import mean_squared_error\n",
    "from sklearn.metrics import mean_absolute_error\n",
    "from math import sqrt\n",
    "from sklearn.metrics import r2_score"
   ]
  },
  {
   "cell_type": "markdown",
   "metadata": {},
   "source": [
    "Lets have a look at data"
   ]
  },
  {
   "cell_type": "code",
   "execution_count": 2,
   "metadata": {},
   "outputs": [],
   "source": [
    "data = pd.read_csv(r'listings.csv')"
   ]
  },
  {
   "cell_type": "code",
   "execution_count": 3,
   "metadata": {},
   "outputs": [
    {
     "name": "stdout",
     "output_type": "stream",
     "text": [
      "<class 'pandas.core.frame.DataFrame'>\n",
      "RangeIndex: 8829 entries, 0 to 8828\n",
      "Data columns (total 16 columns):\n",
      "id                                8829 non-null int64\n",
      "name                              8829 non-null object\n",
      "host_id                           8829 non-null int64\n",
      "host_name                         8828 non-null object\n",
      "neighbourhood_group               8829 non-null object\n",
      "neighbourhood                     8829 non-null object\n",
      "latitude                          8829 non-null float64\n",
      "longitude                         8829 non-null float64\n",
      "room_type                         8829 non-null object\n",
      "price                             8829 non-null int64\n",
      "minimum_nights                    8829 non-null int64\n",
      "number_of_reviews                 8829 non-null int64\n",
      "last_review                       7667 non-null object\n",
      "reviews_per_month                 7667 non-null float64\n",
      "calculated_host_listings_count    8829 non-null int64\n",
      "availability_365                  8829 non-null int64\n",
      "dtypes: float64(3), int64(7), object(6)\n",
      "memory usage: 1.1+ MB\n"
     ]
    }
   ],
   "source": [
    "data.info()"
   ]
  },
  {
   "cell_type": "code",
   "execution_count": 4,
   "metadata": {},
   "outputs": [
    {
     "data": {
      "text/html": [
       "<div>\n",
       "<style scoped>\n",
       "    .dataframe tbody tr th:only-of-type {\n",
       "        vertical-align: middle;\n",
       "    }\n",
       "\n",
       "    .dataframe tbody tr th {\n",
       "        vertical-align: top;\n",
       "    }\n",
       "\n",
       "    .dataframe thead th {\n",
       "        text-align: right;\n",
       "    }\n",
       "</style>\n",
       "<table border=\"1\" class=\"dataframe\">\n",
       "  <thead>\n",
       "    <tr style=\"text-align: right;\">\n",
       "      <th></th>\n",
       "      <th>id</th>\n",
       "      <th>name</th>\n",
       "      <th>host_id</th>\n",
       "      <th>host_name</th>\n",
       "      <th>neighbourhood_group</th>\n",
       "      <th>neighbourhood</th>\n",
       "      <th>latitude</th>\n",
       "      <th>longitude</th>\n",
       "      <th>room_type</th>\n",
       "      <th>price</th>\n",
       "      <th>minimum_nights</th>\n",
       "      <th>number_of_reviews</th>\n",
       "      <th>last_review</th>\n",
       "      <th>reviews_per_month</th>\n",
       "      <th>calculated_host_listings_count</th>\n",
       "      <th>availability_365</th>\n",
       "    </tr>\n",
       "  </thead>\n",
       "  <tbody>\n",
       "    <tr>\n",
       "      <th>0</th>\n",
       "      <td>6623</td>\n",
       "      <td>Venice Blue on Canal apartment</td>\n",
       "      <td>15016</td>\n",
       "      <td>Francesca</td>\n",
       "      <td>Isole</td>\n",
       "      <td>San Polo</td>\n",
       "      <td>45.43823</td>\n",
       "      <td>12.32902</td>\n",
       "      <td>Entire home/apt</td>\n",
       "      <td>225</td>\n",
       "      <td>7</td>\n",
       "      <td>162</td>\n",
       "      <td>2019-11-06</td>\n",
       "      <td>1.27</td>\n",
       "      <td>3</td>\n",
       "      <td>326</td>\n",
       "    </tr>\n",
       "    <tr>\n",
       "      <th>1</th>\n",
       "      <td>6624</td>\n",
       "      <td>Venice garden charme and canal view!</td>\n",
       "      <td>15016</td>\n",
       "      <td>Francesca</td>\n",
       "      <td>Isole</td>\n",
       "      <td>San Polo</td>\n",
       "      <td>45.43845</td>\n",
       "      <td>12.32869</td>\n",
       "      <td>Entire home/apt</td>\n",
       "      <td>272</td>\n",
       "      <td>7</td>\n",
       "      <td>64</td>\n",
       "      <td>2019-11-03</td>\n",
       "      <td>0.61</td>\n",
       "      <td>3</td>\n",
       "      <td>1</td>\n",
       "    </tr>\n",
       "    <tr>\n",
       "      <th>2</th>\n",
       "      <td>12074</td>\n",
       "      <td>Venice home to relax and emotions</td>\n",
       "      <td>15016</td>\n",
       "      <td>Francesca</td>\n",
       "      <td>Isole</td>\n",
       "      <td>San Polo</td>\n",
       "      <td>45.43827</td>\n",
       "      <td>12.32764</td>\n",
       "      <td>Entire home/apt</td>\n",
       "      <td>122</td>\n",
       "      <td>4</td>\n",
       "      <td>184</td>\n",
       "      <td>2019-10-07</td>\n",
       "      <td>1.51</td>\n",
       "      <td>3</td>\n",
       "      <td>105</td>\n",
       "    </tr>\n",
       "    <tr>\n",
       "      <th>3</th>\n",
       "      <td>27116</td>\n",
       "      <td>Charming room with balcony close to S. Mark's</td>\n",
       "      <td>116144</td>\n",
       "      <td>Gianni</td>\n",
       "      <td>Isole</td>\n",
       "      <td>San Marco</td>\n",
       "      <td>45.43221</td>\n",
       "      <td>12.33411</td>\n",
       "      <td>Private room</td>\n",
       "      <td>190</td>\n",
       "      <td>1</td>\n",
       "      <td>410</td>\n",
       "      <td>2020-02-21</td>\n",
       "      <td>3.46</td>\n",
       "      <td>2</td>\n",
       "      <td>318</td>\n",
       "    </tr>\n",
       "    <tr>\n",
       "      <th>4</th>\n",
       "      <td>33934</td>\n",
       "      <td>LOVELY APARTMENT IN THE CENTER</td>\n",
       "      <td>119219</td>\n",
       "      <td>Elisa</td>\n",
       "      <td>Isole</td>\n",
       "      <td>Cannaregio</td>\n",
       "      <td>45.44480</td>\n",
       "      <td>12.33121</td>\n",
       "      <td>Entire home/apt</td>\n",
       "      <td>103</td>\n",
       "      <td>2</td>\n",
       "      <td>133</td>\n",
       "      <td>2019-10-13</td>\n",
       "      <td>1.13</td>\n",
       "      <td>1</td>\n",
       "      <td>89</td>\n",
       "    </tr>\n",
       "    <tr>\n",
       "      <th>5</th>\n",
       "      <td>44527</td>\n",
       "      <td>Historical Luxury Apartment on Calm Sunny Canal</td>\n",
       "      <td>120215</td>\n",
       "      <td>Marc &amp; Elisabeth</td>\n",
       "      <td>Isole</td>\n",
       "      <td>Cannaregio</td>\n",
       "      <td>45.44754</td>\n",
       "      <td>12.32918</td>\n",
       "      <td>Entire home/apt</td>\n",
       "      <td>300</td>\n",
       "      <td>2</td>\n",
       "      <td>72</td>\n",
       "      <td>2020-01-04</td>\n",
       "      <td>0.66</td>\n",
       "      <td>1</td>\n",
       "      <td>1</td>\n",
       "    </tr>\n",
       "    <tr>\n",
       "      <th>6</th>\n",
       "      <td>44998</td>\n",
       "      <td>Furlani Loft for up to 6</td>\n",
       "      <td>198581</td>\n",
       "      <td>Laura</td>\n",
       "      <td>Isole</td>\n",
       "      <td>Castello</td>\n",
       "      <td>45.43854</td>\n",
       "      <td>12.34959</td>\n",
       "      <td>Entire home/apt</td>\n",
       "      <td>200</td>\n",
       "      <td>5</td>\n",
       "      <td>6</td>\n",
       "      <td>2019-11-03</td>\n",
       "      <td>0.05</td>\n",
       "      <td>12</td>\n",
       "      <td>181</td>\n",
       "    </tr>\n",
       "    <tr>\n",
       "      <th>7</th>\n",
       "      <td>45036</td>\n",
       "      <td>San Toma Apartment - Venice</td>\n",
       "      <td>198581</td>\n",
       "      <td>Laura</td>\n",
       "      <td>Isole</td>\n",
       "      <td>San Polo</td>\n",
       "      <td>45.43723</td>\n",
       "      <td>12.32451</td>\n",
       "      <td>Entire home/apt</td>\n",
       "      <td>120</td>\n",
       "      <td>1</td>\n",
       "      <td>19</td>\n",
       "      <td>2019-11-10</td>\n",
       "      <td>0.16</td>\n",
       "      <td>12</td>\n",
       "      <td>183</td>\n",
       "    </tr>\n",
       "    <tr>\n",
       "      <th>8</th>\n",
       "      <td>46054</td>\n",
       "      <td>Fuseri Apartment -Canal view</td>\n",
       "      <td>198581</td>\n",
       "      <td>Laura</td>\n",
       "      <td>Isole</td>\n",
       "      <td>San Marco</td>\n",
       "      <td>45.43439</td>\n",
       "      <td>12.33509</td>\n",
       "      <td>Entire home/apt</td>\n",
       "      <td>400</td>\n",
       "      <td>1</td>\n",
       "      <td>59</td>\n",
       "      <td>2019-11-03</td>\n",
       "      <td>0.56</td>\n",
       "      <td>12</td>\n",
       "      <td>178</td>\n",
       "    </tr>\n",
       "    <tr>\n",
       "      <th>9</th>\n",
       "      <td>46158</td>\n",
       "      <td>Few steps from San Marco Square</td>\n",
       "      <td>198581</td>\n",
       "      <td>Laura</td>\n",
       "      <td>Isole</td>\n",
       "      <td>San Marco</td>\n",
       "      <td>45.43468</td>\n",
       "      <td>12.33613</td>\n",
       "      <td>Entire home/apt</td>\n",
       "      <td>200</td>\n",
       "      <td>1</td>\n",
       "      <td>11</td>\n",
       "      <td>2019-10-11</td>\n",
       "      <td>0.20</td>\n",
       "      <td>12</td>\n",
       "      <td>191</td>\n",
       "    </tr>\n",
       "  </tbody>\n",
       "</table>\n",
       "</div>"
      ],
      "text/plain": [
       "      id                                             name  host_id  \\\n",
       "0   6623                   Venice Blue on Canal apartment    15016   \n",
       "1   6624             Venice garden charme and canal view!    15016   \n",
       "2  12074                Venice home to relax and emotions    15016   \n",
       "3  27116    Charming room with balcony close to S. Mark's   116144   \n",
       "4  33934                   LOVELY APARTMENT IN THE CENTER   119219   \n",
       "5  44527  Historical Luxury Apartment on Calm Sunny Canal   120215   \n",
       "6  44998                         Furlani Loft for up to 6   198581   \n",
       "7  45036                      San Toma Apartment - Venice   198581   \n",
       "8  46054                     Fuseri Apartment -Canal view   198581   \n",
       "9  46158                  Few steps from San Marco Square   198581   \n",
       "\n",
       "          host_name neighbourhood_group neighbourhood  latitude  longitude  \\\n",
       "0         Francesca               Isole      San Polo  45.43823   12.32902   \n",
       "1         Francesca               Isole      San Polo  45.43845   12.32869   \n",
       "2         Francesca               Isole      San Polo  45.43827   12.32764   \n",
       "3            Gianni               Isole     San Marco  45.43221   12.33411   \n",
       "4             Elisa               Isole    Cannaregio  45.44480   12.33121   \n",
       "5  Marc & Elisabeth               Isole    Cannaregio  45.44754   12.32918   \n",
       "6             Laura               Isole      Castello  45.43854   12.34959   \n",
       "7             Laura               Isole      San Polo  45.43723   12.32451   \n",
       "8             Laura               Isole     San Marco  45.43439   12.33509   \n",
       "9             Laura               Isole     San Marco  45.43468   12.33613   \n",
       "\n",
       "         room_type  price  minimum_nights  number_of_reviews last_review  \\\n",
       "0  Entire home/apt    225               7                162  2019-11-06   \n",
       "1  Entire home/apt    272               7                 64  2019-11-03   \n",
       "2  Entire home/apt    122               4                184  2019-10-07   \n",
       "3     Private room    190               1                410  2020-02-21   \n",
       "4  Entire home/apt    103               2                133  2019-10-13   \n",
       "5  Entire home/apt    300               2                 72  2020-01-04   \n",
       "6  Entire home/apt    200               5                  6  2019-11-03   \n",
       "7  Entire home/apt    120               1                 19  2019-11-10   \n",
       "8  Entire home/apt    400               1                 59  2019-11-03   \n",
       "9  Entire home/apt    200               1                 11  2019-10-11   \n",
       "\n",
       "   reviews_per_month  calculated_host_listings_count  availability_365  \n",
       "0               1.27                               3               326  \n",
       "1               0.61                               3                 1  \n",
       "2               1.51                               3               105  \n",
       "3               3.46                               2               318  \n",
       "4               1.13                               1                89  \n",
       "5               0.66                               1                 1  \n",
       "6               0.05                              12               181  \n",
       "7               0.16                              12               183  \n",
       "8               0.56                              12               178  \n",
       "9               0.20                              12               191  "
      ]
     },
     "execution_count": 4,
     "metadata": {},
     "output_type": "execute_result"
    }
   ],
   "source": [
    "data.head(10)"
   ]
  },
  {
   "cell_type": "code",
   "execution_count": 5,
   "metadata": {},
   "outputs": [
    {
     "data": {
      "text/plain": [
       "id                                   0\n",
       "name                                 0\n",
       "host_id                              0\n",
       "host_name                            1\n",
       "neighbourhood_group                  0\n",
       "neighbourhood                        0\n",
       "latitude                             0\n",
       "longitude                            0\n",
       "room_type                            0\n",
       "price                                0\n",
       "minimum_nights                       0\n",
       "number_of_reviews                    0\n",
       "last_review                       1162\n",
       "reviews_per_month                 1162\n",
       "calculated_host_listings_count       0\n",
       "availability_365                     0\n",
       "dtype: int64"
      ]
     },
     "execution_count": 5,
     "metadata": {},
     "output_type": "execute_result"
    }
   ],
   "source": [
    "data.isnull().sum()"
   ]
  },
  {
   "cell_type": "markdown",
   "metadata": {},
   "source": [
    "Above table shows that, there are some missing data for some features. They will be detailed later. "
   ]
  },
  {
   "cell_type": "markdown",
   "metadata": {},
   "source": [
    "# 2. Exploratory Data  Analysis\n",
    "\n",
    "The first graph is about the relationship between ``price`` and ``room type``. The ``Shared room`` price is always lower than 2000 dollars. On the other hand, the ``private room`` and the ``entire home`` have the highest price in some. "
   ]
  },
  {
   "cell_type": "code",
   "execution_count": 6,
   "metadata": {},
   "outputs": [
    {
     "data": {
      "text/plain": [
       "Text(0.5, 1.0, 'Room Type vs Price')"
      ]
     },
     "execution_count": 6,
     "metadata": {},
     "output_type": "execute_result"
    },
    {
     "data": {
      "image/png": "[encoded data removed]",
      "text/plain": [
       "<Figure size 1080x864 with 1 Axes>"
      ]
     },
     "metadata": {
      "needs_background": "light"
     },
     "output_type": "display_data"
    }
   ],
   "source": [
    "plt.figure(figsize=(15,12))\n",
    "sns.scatterplot(x='room_type', y='price', data=data)\n",
    "\n",
    "plt.xlabel(\"Room Type\", size=13)\n",
    "plt.ylabel(\"Price\", size=13)\n",
    "plt.title(\"Room Type vs Price\",size=15, weight='bold')"
   ]
  },
  {
   "cell_type": "markdown",
   "metadata": {},
   "source": [
    "Below graph shows details about ``price`` and ``room type`` based on ``neighborhood group``. The highest price of ``Private Room`` and ``Shared Room``is in the same area which is ``Terraferma`` , this can be condisered as outlier or exceptional case. Also, ``Terraferma`` has low prices in ``Hotel Room``. On the other hand,  ``Isole`` area has cheaper rooms for other types."
   ]
  },
  {
   "cell_type": "code",
   "execution_count": 7,
   "metadata": {},
   "outputs": [
    {
     "data": {
      "image/png": "[encoded data removed]",
      "text/plain": [
       "<Figure size 720x432 with 1 Axes>"
      ]
     },
     "metadata": {
      "needs_background": "light"
     },
     "output_type": "display_data"
    }
   ],
   "source": [
    "plt.figure(figsize=(10,6))\n",
    "sns.scatterplot(data.longitude,data.latitude,hue=data.neighbourhood_group)\n",
    "plt.ioff()"
   ]
  },
  {
   "cell_type": "code",
   "execution_count": 8,
   "metadata": {},
   "outputs": [
    {
     "ename": "NameError",
     "evalue": "name 'ng' is not defined",
     "output_type": "error",
     "traceback": [
      "\u001b[1;31m---------------------------------------------------------------------------\u001b[0m",
      "\u001b[1;31mNameError\u001b[0m                                 Traceback (most recent call last)",
      "\u001b[1;32m<ipython-input-8-6e7b0a827417>\u001b[0m in \u001b[0;36m<module>\u001b[1;34m\u001b[0m\n\u001b[0;32m      1\u001b[0m \u001b[0mplt\u001b[0m\u001b[1;33m.\u001b[0m\u001b[0mfigure\u001b[0m\u001b[1;33m(\u001b[0m\u001b[0mfigsize\u001b[0m\u001b[1;33m=\u001b[0m\u001b[1;33m(\u001b[0m\u001b[1;36m10\u001b[0m\u001b[1;33m,\u001b[0m\u001b[1;36m6\u001b[0m\u001b[1;33m)\u001b[0m\u001b[1;33m)\u001b[0m\u001b[1;33m\u001b[0m\u001b[1;33m\u001b[0m\u001b[0m\n\u001b[1;32m----> 2\u001b[1;33m \u001b[0msns\u001b[0m\u001b[1;33m.\u001b[0m\u001b[0mboxplot\u001b[0m\u001b[1;33m(\u001b[0m\u001b[0my\u001b[0m\u001b[1;33m=\u001b[0m\u001b[1;34m\"price\"\u001b[0m\u001b[1;33m,\u001b[0m\u001b[0mx\u001b[0m \u001b[1;33m=\u001b[0m\u001b[1;34m'neighbourhood_group'\u001b[0m \u001b[1;33m,\u001b[0m\u001b[0mdata\u001b[0m \u001b[1;33m=\u001b[0m \u001b[0mng\u001b[0m\u001b[1;33m)\u001b[0m\u001b[1;33m\u001b[0m\u001b[1;33m\u001b[0m\u001b[0m\n\u001b[0m\u001b[0;32m      3\u001b[0m \u001b[0mplt\u001b[0m\u001b[1;33m.\u001b[0m\u001b[0mtitle\u001b[0m\u001b[1;33m(\u001b[0m\u001b[1;34m\"neighbourhood_group price distribution < 250\"\u001b[0m\u001b[1;33m)\u001b[0m\u001b[1;33m\u001b[0m\u001b[1;33m\u001b[0m\u001b[0m\n\u001b[0;32m      4\u001b[0m \u001b[0mplt\u001b[0m\u001b[1;33m.\u001b[0m\u001b[0mshow\u001b[0m\u001b[1;33m(\u001b[0m\u001b[1;33m)\u001b[0m\u001b[1;33m\u001b[0m\u001b[1;33m\u001b[0m\u001b[0m\n",
      "\u001b[1;31mNameError\u001b[0m: name 'ng' is not defined"
     ]
    },
    {
     "data": {
      "text/plain": [
       "<Figure size 720x432 with 0 Axes>"
      ]
     },
     "metadata": {},
     "output_type": "display_data"
    }
   ],
   "source": [
    "\n",
    "plt.figure(figsize=(10,6))\n",
    "sns.boxplot(y=\"price\",x ='neighbourhood_group' ,data = ng)\n",
    "plt.title(\"neighbourhood_group price distribution < 250\")\n",
    "plt.show()"
   ]
  },
  {
   "cell_type": "code",
   "execution_count": null,
   "metadata": {},
   "outputs": [],
   "source": [
    "plt.figure(figsize=(20,15))\n",
    "sns.scatterplot(x=\"room_type\", y=\"price\",\n",
    "            hue=\"neighbourhood_group\", size=\"neighbourhood_group\",\n",
    "            sizes=(100, 150), palette=\"Dark2\", data=data)\n",
    "\n",
    "plt.xlabel(\"Room Type\", size=13)\n",
    "plt.ylabel(\"Price\", size=13)\n",
    "plt.title(\"Room Type vs Price vs Neighbourhood Group\",size=15, weight='bold')"
   ]
  },
  {
   "cell_type": "markdown",
   "metadata": {},
   "source": [
    "Another graph is about ``price`` vs ``number of reviews`` based on ``neighborhood group``. It shows us the lowest prices have higher reviews than the higher prices. It shows negative correlation between ``price`` and ``number of reviews``. Also ``Isole``area have higher reviews than ``Terraferma`` ."
   ]
  },
  {
   "cell_type": "code",
   "execution_count": null,
   "metadata": {},
   "outputs": [],
   "source": [
    "plt.figure(figsize=(20,15))\n",
    "sns.set_palette(\"Set1\")\n",
    "\n",
    "sns.lineplot(x='price', y='number_of_reviews', \n",
    "             data=data[data['neighbourhood_group']=='Isole'],\n",
    "             label='Isole')\n",
    "sns.lineplot(x='price', y='number_of_reviews', \n",
    "             data=data[data['neighbourhood_group']=='Terraferma'],\n",
    "             label='Terraferma')\n",
    "\n",
    "plt.xlabel(\"Price\", size=13)\n",
    "plt.ylabel(\"Number of Reviews\", size=13)\n",
    "plt.title(\"Price vs Number of Reviews vs Neighbourhood Group\",size=15, weight='bold')"
   ]
  },
  {
   "cell_type": "markdown",
   "metadata": {},
   "source": [
    "Before examining ``price`` feature, categorical variables will be mapped with help of ``cat.code``. This will assist to make easier and comprehensible data analysis. "
   ]
  },
  {
   "cell_type": "code",
   "execution_count": null,
   "metadata": {},
   "outputs": [],
   "source": [
    "data['neighbourhood_group']= data['neighbourhood_group'].astype(\"category\").cat.codes\n",
    "data['neighbourhood'] = data['neighbourhood'].astype(\"category\").cat.codes\n",
    "data['room_type'] = data['room_type'].astype(\"category\").cat.codes\n",
    "data.info()"
   ]
  },
  {
   "cell_type": "code",
   "execution_count": null,
   "metadata": {},
   "outputs": [],
   "source": [
    "plt.figure(figsize=(10,10))\n",
    "sns.distplot(data['price'], fit=norm)\n",
    "plt.title(\"Price Distribution Plot\",size=15, weight='bold')"
   ]
  },
  {
   "cell_type": "markdown",
   "metadata": {},
   "source": [
    "The above distribution graph shows that there is a right-skewed distribution on ``price``. This means there is a positive skewness. Log transformation will be used to make this feature less skewed. This will help to make easier interpretation and better statistical analysis\n",
    "\n",
    "Since division by zero is a problem, ``log+1`` transformation would be better."
   ]
  },
  {
   "cell_type": "code",
   "execution_count": null,
   "metadata": {},
   "outputs": [],
   "source": [
    "data['price_log'] = np.log(data.price+1)"
   ]
  },
  {
   "cell_type": "markdown",
   "metadata": {},
   "source": [
    "With help of log transformation, now, price feature have normal distribution. "
   ]
  },
  {
   "cell_type": "code",
   "execution_count": null,
   "metadata": {},
   "outputs": [],
   "source": [
    "plt.figure(figsize=(12,10))\n",
    "sns.distplot(data['price_log'], fit=norm)\n",
    "plt.title(\"Log-Price Distribution Plot\",size=15, weight='bold')"
   ]
  },
  {
   "cell_type": "markdown",
   "metadata": {},
   "source": [
    "In below graph, the good fit indicates that normality is a reasonable approximation."
   ]
  },
  {
   "cell_type": "code",
   "execution_count": null,
   "metadata": {},
   "outputs": [],
   "source": [
    "plt.figure(figsize=(7,7))\n",
    "stats.probplot(data['price_log'], plot=plt)\n",
    "plt.show()"
   ]
  },
  {
   "cell_type": "markdown",
   "metadata": {},
   "source": [
    "Now it is time to prepare data for modeling. First, non-nominal data and old ``price`` feature will be eliminated."
   ]
  },
  {
   "cell_type": "code",
   "execution_count": null,
   "metadata": {
    "scrolled": true
   },
   "outputs": [],
   "source": [
    "bnb_model = data.drop(columns=['name','id' ,'host_id','host_name', \n",
    "                                   'last_review','price'])\n",
    "bnb_model.isnull().sum()"
   ]
  },
  {
   "cell_type": "markdown",
   "metadata": {},
   "source": [
    "``Number of reviews`` feature has some missing data. For this feature, missing data will be replaced with mean. Since the data is more symmetric, mean replacement would be better. "
   ]
  },
  {
   "cell_type": "code",
   "execution_count": null,
   "metadata": {},
   "outputs": [],
   "source": [
    "mean = bnb_model['reviews_per_month'].mean()\n",
    "bnb_model['reviews_per_month'].fillna(mean, inplace=True)\n",
    "bnb_model.isnull().sum()"
   ]
  },
  {
   "cell_type": "markdown",
   "metadata": {},
   "source": [
    "Now it is time to make more details about data. A correlation table will be created and the Pearson method will be used."
   ]
  },
  {
   "cell_type": "code",
   "execution_count": null,
   "metadata": {},
   "outputs": [],
   "source": [
    "plt.figure(figsize=(15,12))\n",
    "corr = bnb_model.corr(method='pearson')\n",
    "sns.heatmap(corr, annot=True, fmt=\".2f\")\n",
    "plt.title(\"Correlation Matrix\", size=15, weight='bold')"
   ]
  },
  {
   "cell_type": "markdown",
   "metadata": {},
   "source": [
    "The correlation table shows that there is no strong relationship between price and other features. This indicates no feature needed to be taken out of data. This relationship will be detailed with Residual Plots and Multicollinearity."
   ]
  },
  {
   "cell_type": "markdown",
   "metadata": {},
   "source": [
    "## Residual Plots\n",
    "\n",
    "Residual Plot is strong method to detect outliers, non-linear data and detecting data for regression models. The below charts show the residual plots for each feature with the ``price``. \n",
    "\n",
    "An ideal Residual Plot, the red line would be horizontal. Based on the below charts, most features are non-linear. On the other hand, there are not many outliers in each feature. This result led to underfitting. Underfitting can occur when input features do not have a strong relationship to target variables or over-regularized. For avoiding underfitting new data features can be added or regularization weight could be reduced.\n",
    "\n",
    "In this kernel, since the input feature data could not be increased, Regularized Linear Models will be used for regularization and polynomial transformation will be made to avoid underfitting. "
   ]
  },
  {
   "cell_type": "code",
   "execution_count": null,
   "metadata": {},
   "outputs": [],
   "source": [
    "bnb_model_x, bnb_model_y = bnb_model.iloc[:,:-1], bnb_model.iloc[:,-1]"
   ]
  },
  {
   "cell_type": "code",
   "execution_count": null,
   "metadata": {},
   "outputs": [],
   "source": [
    "f, axes = plt.subplots(5, 2, figsize=(15, 20))\n",
    "sns.residplot(bnb_model_x.iloc[:,0],bnb_model_y, lowess=True, ax=axes[0, 0], \n",
    "                          scatter_kws={'alpha': 0.5}, \n",
    "                          line_kws={'color': 'red', 'lw': 1, 'alpha': 0.8})\n",
    "sns.residplot(bnb_model_x.iloc[:,1],bnb_model_y, lowess=True, ax=axes[0, 1],\n",
    "                          scatter_kws={'alpha': 0.5}, \n",
    "                          line_kws={'color': 'red', 'lw': 1, 'alpha': 0.8})\n",
    "sns.residplot(bnb_model_x.iloc[:,2],bnb_model_y, lowess=True, ax=axes[1, 0], \n",
    "                          scatter_kws={'alpha': 0.5}, \n",
    "                          line_kws={'color': 'red', 'lw': 1, 'alpha': 0.8})\n",
    "sns.residplot(bnb_model_x.iloc[:,3],bnb_model_y, lowess=True, ax=axes[1, 1], \n",
    "                          scatter_kws={'alpha': 0.5}, \n",
    "                          line_kws={'color': 'red', 'lw': 1, 'alpha': 0.8})\n",
    "sns.residplot(bnb_model_x.iloc[:,4],bnb_model_y, lowess=True, ax=axes[2, 0], \n",
    "                          scatter_kws={'alpha': 0.5}, \n",
    "                          line_kws={'color': 'red', 'lw': 1, 'alpha': 0.8})\n",
    "sns.residplot(bnb_model_x.iloc[:,5],bnb_model_y, lowess=True, ax=axes[2, 1], \n",
    "                          scatter_kws={'alpha': 0.5}, \n",
    "                          line_kws={'color': 'red', 'lw': 1, 'alpha': 0.8})\n",
    "sns.residplot(bnb_model_x.iloc[:,6],bnb_model_y, lowess=True, ax=axes[3, 0], \n",
    "                          scatter_kws={'alpha': 0.5}, \n",
    "                          line_kws={'color': 'red', 'lw': 1, 'alpha': 0.8})\n",
    "sns.residplot(bnb_model_x.iloc[:,7],bnb_model_y, lowess=True, ax=axes[3, 1], \n",
    "                          scatter_kws={'alpha': 0.5}, \n",
    "                          line_kws={'color': 'red', 'lw': 1, 'alpha': 0.8})\n",
    "sns.residplot(bnb_model_x.iloc[:,8],bnb_model_y, lowess=True, ax=axes[4, 0], \n",
    "                          scatter_kws={'alpha': 0.5}, \n",
    "                          line_kws={'color': 'red', 'lw': 1, 'alpha': 0.8})\n",
    "sns.residplot(bnb_model_x.iloc[:,9],bnb_model_y, lowess=True, ax=axes[4, 1], \n",
    "                          scatter_kws={'alpha': 0.5}, \n",
    "                          line_kws={'color': 'red', 'lw': 1, 'alpha': 0.8})\n",
    "plt.setp(axes, yticks=[])\n",
    "plt.tight_layout()"
   ]
  },
  {
   "cell_type": "markdown",
   "metadata": {},
   "source": [
    "## Multicollinearity\n",
    "\n",
    "Multicollinearity will help to measure the relationship between explanatory variables in multiple regression. If there is multicollinearity occurs, these highly related input variables should be eliminated from the model.\n",
    "\n",
    "In this kernel, multicollinearity will be control with ``Eigen vector values`` results. "
   ]
  },
  {
   "cell_type": "code",
   "execution_count": null,
   "metadata": {},
   "outputs": [],
   "source": [
    "#Eigen vector of a correlation matrix.\n",
    "multicollinearity, V=np.linalg.eig(corr)\n",
    "multicollinearity"
   ]
  },
  {
   "cell_type": "markdown",
   "metadata": {},
   "source": [
    "None one of the eigenvalues of the correlation matrix is close to zero. It means that there is no multicollinearity exists in the data."
   ]
  },
  {
   "cell_type": "markdown",
   "metadata": {},
   "source": [
    "## Feature Selection and GridSearch\n",
    "\n",
    "First, ``Standard Scaler`` technique will be used to normalize the data set. Thus, each feature has 0 mean and 1 standard deviation. "
   ]
  },
  {
   "cell_type": "code",
   "execution_count": null,
   "metadata": {},
   "outputs": [],
   "source": [
    "scaler = StandardScaler()\n",
    "bnb_model_x = scaler.fit_transform(bnb_model_x)"
   ]
  },
  {
   "cell_type": "markdown",
   "metadata": {},
   "source": [
    "Secondly, data will be split in a 70–30 ratio"
   ]
  },
  {
   "cell_type": "code",
   "execution_count": null,
   "metadata": {},
   "outputs": [],
   "source": [
    "X_train, X_test, y_train, y_test = train_test_split(bnb_model_x, bnb_model_y, test_size=0.3,random_state=42)"
   ]
  },
  {
   "cell_type": "markdown",
   "metadata": {},
   "source": [
    "Now it is time to build a ``feature importance`` graph. For this ``Extra Trees Classifier`` method will be used. In the below code, ``lowess=True`` makes sure the lowest regression line is drawn."
   ]
  },
  {
   "cell_type": "code",
   "execution_count": null,
   "metadata": {},
   "outputs": [],
   "source": [
    "lab_enc = preprocessing.LabelEncoder()\n",
    "\n",
    "feature_model = ExtraTreesClassifier(n_estimators=50)\n",
    "feature_model.fit(X_train,lab_enc.fit_transform(y_train))\n",
    "\n",
    "plt.figure(figsize=(7,7))\n",
    "feat_importances = pd.Series(feature_model.feature_importances_, index=bnb_model.iloc[:,:-1].columns)\n",
    "feat_importances.nlargest(10).plot(kind='barh')\n",
    "plt.show()"
   ]
  },
  {
   "cell_type": "markdown",
   "metadata": {},
   "source": [
    "The above graph shows the feature importance of dataset. According to that, ``neighborhood group`` and ``room type`` have the lowest importance on the model. Under this result, the model building will be made in 2 phases. In the first phase, models will be built within all features and in the second phase, models will be built without ``neighborhood group`` and ``room type`` features.  "
   ]
  },
  {
   "cell_type": "markdown",
   "metadata": {},
   "source": [
    "# 3. Model Building\n",
    "\n",
    "## Phase 1 - With All Features\n",
    "\n",
    "Correlation matrix, Residual Plots and Multicollinearity results show that underfitting occurs on the model and there is no multicollinearity on the independent variables. Avoiding underfitting will be made with ``Polynomial Transformation`` since no new features can not be added or replaced with the existing ones.  \n",
    "\n",
    "In model building section, `Linear Regression`, `Ridge Regression`, `Lasso Regression`, and `ElasticNet Regression` models will be built. These models will be used to avoiding plain ``Linear Regression`` and show the results with a little of regularization. \n",
    "\n",
    "First, `GridSearchCV` algorithm will be used to find the best parameters and tuning hyperparameters for each model. In this algorithm ``5-Fold Cross Validation`` and ``Mean Squared Error Regression Loss`` metrics will be used. "
   ]
  },
  {
   "cell_type": "code",
   "execution_count": null,
   "metadata": {},
   "outputs": [],
   "source": [
    "### Linear Regression ###\n",
    "\n",
    "def linear_reg(input_x, input_y, cv=5):\n",
    "    ## Defining parameters\n",
    "    model_LR= LinearRegression()\n",
    "\n",
    "    parameters = {'fit_intercept':[True,False], 'normalize':[True,False], 'copy_X':[True, False]}\n",
    "\n",
    "    ## Building Grid Search algorithm with cross-validation and Mean Squared Error score.\n",
    "\n",
    "    grid_search_LR = GridSearchCV(estimator=model_LR,  \n",
    "                         param_grid=parameters,\n",
    "                         scoring='neg_mean_squared_error',\n",
    "                         cv=cv,\n",
    "                         n_jobs=-1)\n",
    "\n",
    "    ## Lastly, finding the best parameters.\n",
    "\n",
    "    grid_search_LR.fit(input_x, input_y)\n",
    "    best_parameters_LR = grid_search_LR.best_params_  \n",
    "    best_score_LR = grid_search_LR.best_score_ \n",
    "    print(best_parameters_LR)\n",
    "    print(best_score_LR)\n",
    "\n",
    "\n",
    "# linear_reg(bnb_model_x, bnb_model_y)"
   ]
  },
  {
   "cell_type": "code",
   "execution_count": null,
   "metadata": {},
   "outputs": [],
   "source": [
    "### Ridge Regression ###\n",
    "\n",
    "def ridge_reg(input_x, input_y, cv=5):\n",
    "    ## Defining parameters\n",
    "    model_Ridge= Ridge()\n",
    "\n",
    "    # prepare a range of alpha values to test\n",
    "    alphas = np.array([1,0.1,0.01,0.001,0.0001,0])\n",
    "    normalizes= ([True,False])\n",
    "\n",
    "    ## Building Grid Search algorithm with cross-validation and Mean Squared Error score.\n",
    "\n",
    "    grid_search_Ridge = GridSearchCV(estimator=model_Ridge,  \n",
    "                         param_grid=(dict(alpha=alphas, normalize= normalizes)),\n",
    "                         scoring='neg_mean_squared_error',\n",
    "                         cv=cv,\n",
    "                         n_jobs=-1)\n",
    "\n",
    "    ## Lastly, finding the best parameters.\n",
    "\n",
    "    grid_search_Ridge.fit(input_x, input_y)\n",
    "    best_parameters_Ridge = grid_search_Ridge.best_params_  \n",
    "    best_score_Ridge = grid_search_Ridge.best_score_ \n",
    "    print(best_parameters_Ridge)\n",
    "    print(best_score_Ridge)\n",
    "    \n",
    "# ridge_reg(bnb_model_x, bnb_model_y)"
   ]
  },
  {
   "cell_type": "code",
   "execution_count": null,
   "metadata": {},
   "outputs": [],
   "source": [
    "### Lasso Regression ###\n",
    "\n",
    "def lasso_reg(input_x, input_y, cv=5):\n",
    "    ## Defining parameters\n",
    "    model_Lasso= Lasso()\n",
    "\n",
    "    # prepare a range of alpha values to test\n",
    "    alphas = np.array([1,0.1,0.01,0.001,0.0001,0])\n",
    "    normalizes= ([True,False])\n",
    "\n",
    "    ## Building Grid Search algorithm with cross-validation and Mean Squared Error score.\n",
    "\n",
    "    grid_search_lasso = GridSearchCV(estimator=model_Lasso,  \n",
    "                         param_grid=(dict(alpha=alphas, normalize= normalizes)),\n",
    "                         scoring='neg_mean_squared_error',\n",
    "                         cv=cv,\n",
    "                         n_jobs=-1)\n",
    "\n",
    "    ## Lastly, finding the best parameters.\n",
    "\n",
    "    grid_search_lasso.fit(input_x, input_y)\n",
    "    best_parameters_lasso = grid_search_lasso.best_params_  \n",
    "    best_score_lasso = grid_search_lasso.best_score_ \n",
    "    print(best_parameters_lasso)\n",
    "    print(best_score_lasso)\n",
    "\n",
    "# lasso_reg(bnb_model_x, bnb_model_y)"
   ]
  },
  {
   "cell_type": "code",
   "execution_count": null,
   "metadata": {},
   "outputs": [],
   "source": [
    "### ElasticNet Regression ###\n",
    "\n",
    "def elastic_reg(input_x, input_y,cv=5):\n",
    "    ## Defining parameters\n",
    "    model_grid_Elastic= ElasticNet()\n",
    "\n",
    "    # prepare a range of alpha values to test\n",
    "    alphas = np.array([1,0.1,0.01,0.001,0.0001,0])\n",
    "    normalizes= ([True,False])\n",
    "\n",
    "    ## Building Grid Search algorithm with cross-validation and Mean Squared Error score.\n",
    "\n",
    "    grid_search_elastic = GridSearchCV(estimator=model_grid_Elastic,  \n",
    "                         param_grid=(dict(alpha=alphas, normalize= normalizes)),\n",
    "                         scoring='neg_mean_squared_error',\n",
    "                         cv=cv,\n",
    "                         n_jobs=-1)\n",
    "\n",
    "    ## Lastly, finding the best parameters.\n",
    "\n",
    "    grid_search_elastic.fit(input_x, input_y)\n",
    "    best_parameters_elastic = grid_search_elastic.best_params_  \n",
    "    best_score_elastic = grid_search_elastic.best_score_ \n",
    "    print(best_parameters_elastic)\n",
    "    print(best_score_elastic)\n",
    "\n",
    "# elastic_reg(bnb_model_x, bnb_model_y)"
   ]
  },
  {
   "cell_type": "markdown",
   "metadata": {},
   "source": [
    "### K-Fold Cross Validation\n",
    "\n",
    "Before model building, 5-Fold Cross Validation will be implemented for validation."
   ]
  },
  {
   "cell_type": "code",
   "execution_count": null,
   "metadata": {},
   "outputs": [],
   "source": [
    "kfold_cv=KFold(n_splits=5, random_state=42, shuffle=False)\n",
    "for train_index, test_index in kfold_cv.split(bnb_model_x,bnb_model_y):\n",
    "    X_train, X_test = bnb_model_x[train_index], bnb_model_x[test_index]\n",
    "    y_train, y_test = bnb_model_y[train_index], bnb_model_y[test_index]"
   ]
  },
  {
   "cell_type": "markdown",
   "metadata": {},
   "source": [
    "### Polynomial Transformation\n",
    "The polynomial transformation will be made with a second degree which adding the square of each feature."
   ]
  },
  {
   "cell_type": "code",
   "execution_count": null,
   "metadata": {},
   "outputs": [],
   "source": [
    "Poly = PolynomialFeatures(degree=2, interaction_only=True, include_bias=False)\n",
    "X_train = Poly.fit_transform(X_train)\n",
    "X_test = Poly.fit_transform(X_test)"
   ]
  },
  {
   "cell_type": "markdown",
   "metadata": {},
   "source": [
    "### Model Prediction"
   ]
  },
  {
   "cell_type": "code",
   "execution_count": null,
   "metadata": {},
   "outputs": [],
   "source": [
    "##Linear Regression\n",
    "lr = LinearRegression(copy_X= True, fit_intercept = True, normalize = True)\n",
    "lr.fit(X_train, y_train)\n",
    "lr_pred= lr.predict(X_test)\n",
    "\n",
    "#Ridge Model\n",
    "ridge_model = Ridge(alpha = 0.01, normalize = True)\n",
    "ridge_model.fit(X_train, y_train)             \n",
    "pred_ridge = ridge_model.predict(X_test) \n",
    "\n",
    "#Lasso Model\n",
    "Lasso_model = Lasso(alpha = 0.001, normalize =False)\n",
    "Lasso_model.fit(X_train, y_train)\n",
    "pred_Lasso = Lasso_model.predict(X_test) \n",
    "\n",
    "#ElasticNet Model\n",
    "model_enet = ElasticNet(alpha = 0.01, normalize=False)\n",
    "model_enet.fit(X_train, y_train) \n",
    "pred_test_enet= model_enet.predict(X_test)\n"
   ]
  },
  {
   "cell_type": "markdown",
   "metadata": {},
   "source": [
    "## Phase 2 - Without All Features\n",
    "\n",
    "All steps from Phase 1, will be repeated in this Phase. The difference is, ``neighbourhood_group`` and ``room_type`` features will be eliminated."
   ]
  },
  {
   "cell_type": "code",
   "execution_count": null,
   "metadata": {},
   "outputs": [],
   "source": [
    "bnb_model_xx= bnb_model.drop(columns=['neighbourhood_group', 'room_type'])"
   ]
  },
  {
   "cell_type": "code",
   "execution_count": null,
   "metadata": {},
   "outputs": [],
   "source": [
    "bnb_model_xx, bnb_model_yx = bnb_model_xx.iloc[:,:-1], bnb_model_xx.iloc[:,-1]\n",
    "X_train_x, X_test_x, y_train_x, y_test_x = train_test_split(bnb_model_xx, bnb_model_yx, test_size=0.3,random_state=42)"
   ]
  },
  {
   "cell_type": "code",
   "execution_count": null,
   "metadata": {},
   "outputs": [],
   "source": [
    "scaler = StandardScaler()\n",
    "bnb_model_xx = scaler.fit_transform(bnb_model_xx)"
   ]
  },
  {
   "cell_type": "code",
   "execution_count": null,
   "metadata": {},
   "outputs": [],
   "source": [
    "### Linear Regression ###\n",
    "# linear_reg(bnb_model_xx, bnb_model_yx, cv=4)"
   ]
  },
  {
   "cell_type": "code",
   "execution_count": null,
   "metadata": {},
   "outputs": [],
   "source": [
    "### Ridge Regression ###\n",
    "# ridge_reg(bnb_model_xx, bnb_model_yx, cv=4)"
   ]
  },
  {
   "cell_type": "code",
   "execution_count": null,
   "metadata": {},
   "outputs": [],
   "source": [
    "### Lasso Regression ###\n",
    "# lasso_reg(bnb_model_xx, bnb_model_yx, cv=4)"
   ]
  },
  {
   "cell_type": "code",
   "execution_count": null,
   "metadata": {},
   "outputs": [],
   "source": [
    "### ElasticNet Regression ###\n",
    "# elastic_reg(bnb_model_xx, bnb_model_yx, cv=4)"
   ]
  },
  {
   "cell_type": "markdown",
   "metadata": {},
   "source": [
    "### K-Fold Cross Validation"
   ]
  },
  {
   "cell_type": "code",
   "execution_count": null,
   "metadata": {},
   "outputs": [],
   "source": [
    "kfold_cv=KFold(n_splits=4, random_state=42, shuffle=False)\n",
    "for train_index, test_index in kfold_cv.split(bnb_model_xx,bnb_model_yx):\n",
    "    X_train_x, X_test_x = bnb_model_xx[train_index], bnb_model_xx[test_index]\n",
    "    y_train_x, y_test_x = bnb_model_yx[train_index], bnb_model_yx[test_index]"
   ]
  },
  {
   "cell_type": "markdown",
   "metadata": {},
   "source": [
    "### Polynomial Transformation"
   ]
  },
  {
   "cell_type": "code",
   "execution_count": null,
   "metadata": {},
   "outputs": [],
   "source": [
    "Poly = PolynomialFeatures(degree=2, interaction_only=True, include_bias=False)\n",
    "X_train_x = Poly.fit_transform(X_train_x)\n",
    "X_test_x = Poly.fit_transform(X_test_x)"
   ]
  },
  {
   "cell_type": "markdown",
   "metadata": {},
   "source": [
    "### Model Prediction"
   ]
  },
  {
   "cell_type": "code",
   "execution_count": null,
   "metadata": {},
   "outputs": [],
   "source": [
    "###Linear Regression\n",
    "lr_x = LinearRegression(copy_X= True, fit_intercept = True, normalize = True)\n",
    "lr_x.fit(X_train_x, y_train_x)\n",
    "lr_pred_x= lr_x.predict(X_test_x)\n",
    "\n",
    "###Ridge\n",
    "ridge_x = Ridge(alpha = 0.01, normalize = True)\n",
    "ridge_x.fit(X_train_x, y_train_x)           \n",
    "pred_ridge_x = ridge_x.predict(X_test_x) \n",
    "\n",
    "###Lasso\n",
    "Lasso_x = Lasso(alpha = 0.001, normalize =False)\n",
    "Lasso_x.fit(X_train_x, y_train_x)\n",
    "pred_Lasso_x = Lasso_x.predict(X_test_x) \n",
    "\n",
    "##ElasticNet\n",
    "model_enet_x = ElasticNet(alpha = 0.01, normalize=False)\n",
    "model_enet_x.fit(X_train_x, y_train_x) \n",
    "pred_train_enet_x= model_enet_x.predict(X_train_x)\n",
    "pred_test_enet_x= model_enet_x.predict(X_test_x)\n"
   ]
  },
  {
   "cell_type": "markdown",
   "metadata": {},
   "source": [
    "# 4. Model Comparison\n",
    "\n",
    "In this part, 3 metrics will be calculated for evaluating predictions.\n",
    "\n",
    "* ``Mean Absolute Error (MAE)``    shows the difference between predictions and actual values.\n",
    "\n",
    "* ``Root Mean Square Error (RMSE)`` shows how accurately the model predicts the response.\n",
    "\n",
    "*                   ``R^2``  will be calculated to find the goodness of fit measure."
   ]
  },
  {
   "cell_type": "code",
   "execution_count": null,
   "metadata": {},
   "outputs": [],
   "source": [
    "print('-------------Lineer Regression-----------')\n",
    "\n",
    "print('--Phase-1--')\n",
    "print('MAE: %f'% mean_absolute_error(y_test, lr_pred))\n",
    "print('RMSE: %f'% np.sqrt(mean_squared_error(y_test, lr_pred)))   \n",
    "print('R2 %f' % r2_score(y_test, lr_pred))\n",
    "\n",
    "print('--Phase-2--')\n",
    "print('MAE: %f'% mean_absolute_error(y_test_x, lr_pred_x))\n",
    "print('RMSE: %f'% np.sqrt(mean_squared_error(y_test_x, lr_pred_x)))   \n",
    "print('R2 %f' % r2_score(y_test_x, lr_pred_x))\n",
    "\n",
    "print('---------------Ridge ---------------------')\n",
    "\n",
    "print('--Phase-1--')\n",
    "print('MAE: %f'% mean_absolute_error(y_test, pred_ridge))\n",
    "print('RMSE: %f'% np.sqrt(mean_squared_error(y_test, pred_ridge)))   \n",
    "print('R2 %f' % r2_score(y_test, pred_ridge))\n",
    "\n",
    "print('--Phase-2--')\n",
    "print('MAE: %f'% mean_absolute_error(y_test_x, pred_ridge_x))\n",
    "print('RMSE: %f'% np.sqrt(mean_squared_error(y_test_x, pred_ridge_x)))   \n",
    "print('R2 %f' % r2_score(y_test_x, pred_ridge_x))\n",
    "\n",
    "print('---------------Lasso-----------------------')\n",
    "\n",
    "print('--Phase-1--')\n",
    "print('MAE: %f' % mean_absolute_error(y_test, pred_Lasso))\n",
    "print('RMSE: %f' % np.sqrt(mean_squared_error(y_test, pred_Lasso)))\n",
    "print('R2 %f' % r2_score(y_test, pred_Lasso))\n",
    "\n",
    "print('--Phase-2--')\n",
    "print('MAE: %f' % mean_absolute_error(y_test_x, pred_Lasso_x))\n",
    "print('RMSE: %f' % np.sqrt(mean_squared_error(y_test_x, pred_Lasso_x)))\n",
    "print('R2 %f' % r2_score(y_test_x, pred_Lasso_x))\n",
    "\n",
    "print('---------------ElasticNet-------------------')\n",
    "\n",
    "print('--Phase-1 --')\n",
    "print('MAE: %f' % mean_absolute_error(y_test,pred_test_enet)) #RMSE\n",
    "print('RMSE: %f' % np.sqrt(mean_squared_error(y_test,pred_test_enet))) #RMSE\n",
    "print('R2 %f' % r2_score(y_test, pred_test_enet))\n",
    "\n",
    "print('--Phase-2--')\n",
    "print('MAE: %f' % mean_absolute_error(y_test_x,pred_test_enet_x)) #RMSE\n",
    "print('RMSE: %f' % np.sqrt(mean_squared_error(y_test_x,pred_test_enet_x))) #RMSE\n",
    "print('R2 %f' % r2_score(y_test_x, pred_test_enet_x))"
   ]
  },
  {
   "cell_type": "markdown",
   "metadata": {},
   "source": [
    "The results show that all models have similar prediction results. Phase 1 and 2 have a great difference for each metric. All metric values are increased in Phase 2 it means, the prediction error value is higher in that Phase and model explainability are very low the variability of the response data around mean.\n",
    "\n",
    "* The MAE value of 0 indicates no error on the model. In other words, there is a perfect prediction. The above results show that all predictions have great error especially in phase 2. \n",
    "* RMSE gives an idea of how much error the system typically makes in its predictions. The above results show that all models with each phase have significant errors.\n",
    "* R2 represents the proportion of the variance for a dependent variable that's explained by an independent variable. The above results show that, in phase 1, 52% of data fit the regression model while in phase 2, 20% of data fit the regression model. "
   ]
  },
  {
   "cell_type": "code",
   "execution_count": null,
   "metadata": {},
   "outputs": [],
   "source": [
    "fig, ((ax1, ax2, ax3, ax4), (ax5, ax6, ax7, ax8)) = plt.subplots(2, 4, figsize=(30, 20))\n",
    "fig.suptitle('True Values vs Predictions')\n",
    "\n",
    "ax1.scatter(y_test, lr_pred)\n",
    "ax1.set_title('Linear Regression - Phase-1')\n",
    "\n",
    "ax2.scatter(y_test, pred_ridge)\n",
    "ax2.set_title('Ridge - Phase-1')\n",
    "\n",
    "ax3.scatter(y_test, pred_Lasso)\n",
    "ax3.set_title('Lasso - Phase-1')\n",
    "\n",
    "ax4.scatter(y_test, pred_test_enet)\n",
    "ax4.set_title('ElasticNet - Phase-1')\n",
    "\n",
    "ax5.scatter(y_test_x, lr_pred_x)\n",
    "ax5.set_title('Linear Regression - Phase-2')\n",
    "\n",
    "ax6.scatter(y_test_x, pred_ridge_x)\n",
    "ax6.set_title('Ridge - Phase-2')\n",
    "\n",
    "ax7.scatter(y_test_x, pred_Lasso_x)\n",
    "ax7.set_title('Lasso - Phase-2')\n",
    "\n",
    "ax8.scatter(y_test_x, pred_test_enet_x)\n",
    "ax8.set_title('ElasticNet - Phase-2')\n",
    "\n",
    "for ax in fig.get_axes():\n",
    "    ax.set(xlabel='True Values', ylabel='Predictions')\n"
   ]
  },
  {
   "cell_type": "markdown",
   "metadata": {},
   "source": [
    "The last graph is about the difference between True Values vs Prediction for Phase 1 and Phase 2. The great difference between the two phases has been seen in 'Linear Regression' and 'ElasticNet Regression' models. "
   ]
  },
  {
   "cell_type": "markdown",
   "metadata": {},
   "source": [
    "# 5. Conclusion\n",
    "\n",
    "In this kernel, I try to make predictions with different Regression models and comparing the importance metric results. I hope it would help other people. \n",
    "\n",
    "Any comments and feedback are welcome."
   ]
  }
 ],
 "metadata": {
  "kernelspec": {
   "display_name": "Python 3",
   "language": "python",
   "name": "python3"
  },
  "language_info": {
   "codemirror_mode": {
    "name": "ipython",
    "version": 3
   },
   "file_extension": ".py",
   "mimetype": "text/x-python",
   "name": "python",
   "nbconvert_exporter": "python",
   "pygments_lexer": "ipython3",
   "version": "3.7.6"
  },
  "toc": {
   "base_numbering": 1,
   "nav_menu": {},
   "number_sections": true,
   "sideBar": true,
   "skip_h1_title": false,
   "title_cell": "Table of Contents",
   "title_sidebar": "Contents",
   "toc_cell": false,
   "toc_position": {},
   "toc_section_display": true,
   "toc_window_display": true
  }
 },
 "nbformat": 4,
 "nbformat_minor": 1
}
